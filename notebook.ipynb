{
 "cells": [
  {
   "cell_type": "code",
   "execution_count": 1,
   "metadata": {
    "ExecuteTime": {
     "end_time": "2022-03-27T10:25:20.054674Z",
     "start_time": "2022-03-27T10:25:19.951945Z"
    }
   },
   "outputs": [],
   "source": [
    "import requests\n",
    "from bs4 import BeautifulSoup\n",
    "import re"
   ]
  },
  {
   "cell_type": "code",
   "execution_count": 20,
   "metadata": {
    "ExecuteTime": {
     "end_time": "2022-03-27T10:30:03.923799Z",
     "start_time": "2022-03-27T10:30:03.903785Z"
    }
   },
   "outputs": [],
   "source": [
    "class Item:\n",
    "    BASE_URL = \"https://wiki.factorio.com\"\n",
    "    \n",
    "    def __init__(self, name):\n",
    "        self.name = name\n",
    "        self.time = 100500\n",
    "        self.count = 1\n",
    "        self.recipe = []\n",
    "    \n",
    "    def parse_from_wiki(self):\n",
    "        resp = requests.get(Item.BASE_URL + \"/\" + self.name)\n",
    "        soup = BeautifulSoup(resp.text, 'lxml')\n",
    "        self._get_recipe(soup)\n",
    "\n",
    "    def _get_recipe(self, html_soup):\n",
    "        recipe_table = html_soup.find(\"p\", string=re.compile(\"Recipe*\")).parent.parent.parent\n",
    "        for icon in recipe_table.find(\"td\", class_='infobox-vrow-value').find_all(\"div\", class_='factorio-icon'):\n",
    "            r_name = icon.find(\"a\")['href'][1:]\n",
    "            r_count = icon.find(\"div\", class_='factorio-icon-text').text\n",
    "\n",
    "            if r_name == \"Time\":\n",
    "                self.time = r_count\n",
    "            elif r_name == self.name:\n",
    "                self.count = r_count\n",
    "            else:\n",
    "                self.recipe.append((r_name, r_count))\n",
    "    \n",
    "    def __repr__(self):\n",
    "        return f\"{self.name}\\n  {self.time} sec -> {self.count}\\n  {self.recipe}\""
   ]
  },
  {
   "cell_type": "code",
   "execution_count": 22,
   "metadata": {
    "ExecuteTime": {
     "end_time": "2022-03-27T10:30:17.618572Z",
     "start_time": "2022-03-27T10:30:17.175814Z"
    }
   },
   "outputs": [
    {
     "name": "stdout",
     "output_type": "stream",
     "text": [
      "Copper_cable\n",
      "  0.5 x 2\n",
      "  [('Copper_plate', '1')]\n"
     ]
    }
   ],
   "source": [
    "cable = Item(\"Copper_cable\")\n",
    "cable.parse_from_wiki()\n",
    "print(cable)"
   ]
  },
  {
   "cell_type": "code",
   "execution_count": 25,
   "metadata": {
    "ExecuteTime": {
     "end_time": "2022-03-27T10:34:21.664655Z",
     "start_time": "2022-03-27T10:34:20.456380Z"
    }
   },
   "outputs": [
    {
     "name": "stdout",
     "output_type": "stream",
     "text": [
      "Chemical_science_pack\n",
      "  24 x 2\n",
      "  [('Advanced_circuit', '3'), ('Engine_unit', '2'), ('Sulfur', '1')]\n"
     ]
    }
   ],
   "source": [
    "sci_3 = Item(\"Chemical_science_pack\")\n",
    "sci_3.parse_from_wiki()\n",
    "print(sci_3)"
   ]
  },
  {
   "cell_type": "code",
   "execution_count": null,
   "metadata": {},
   "outputs": [],
   "source": []
  }
 ],
 "metadata": {
  "kernelspec": {
   "display_name": "Python 3",
   "language": "python",
   "name": "python3"
  },
  "language_info": {
   "codemirror_mode": {
    "name": "ipython",
    "version": 3
   },
   "file_extension": ".py",
   "mimetype": "text/x-python",
   "name": "python",
   "nbconvert_exporter": "python",
   "pygments_lexer": "ipython3",
   "version": "3.7.7"
  },
  "toc": {
   "base_numbering": 1,
   "nav_menu": {},
   "number_sections": true,
   "sideBar": true,
   "skip_h1_title": false,
   "title_cell": "Table of Contents",
   "title_sidebar": "Contents",
   "toc_cell": false,
   "toc_position": {},
   "toc_section_display": true,
   "toc_window_display": false
  },
  "varInspector": {
   "cols": {
    "lenName": 16,
    "lenType": 16,
    "lenVar": 40
   },
   "kernels_config": {
    "python": {
     "delete_cmd_postfix": "",
     "delete_cmd_prefix": "del ",
     "library": "var_list.py",
     "varRefreshCmd": "print(var_dic_list())"
    },
    "r": {
     "delete_cmd_postfix": ") ",
     "delete_cmd_prefix": "rm(",
     "library": "var_list.r",
     "varRefreshCmd": "cat(var_dic_list()) "
    }
   },
   "types_to_exclude": [
    "module",
    "function",
    "builtin_function_or_method",
    "instance",
    "_Feature"
   ],
   "window_display": false
  }
 },
 "nbformat": 4,
 "nbformat_minor": 4
}
